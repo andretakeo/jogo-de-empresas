{
 "cells": [
  {
   "cell_type": "markdown",
   "metadata": {},
   "source": [
    "### Importanto bibliotecas"
   ]
  },
  {
   "cell_type": "code",
   "execution_count": 12,
   "metadata": {},
   "outputs": [],
   "source": [
    "import pandas as pd\n",
    "import seaborn as sns\n",
    "import matplotlib.pyplot as plt\n",
    "import random\n"
   ]
  },
  {
   "cell_type": "markdown",
   "metadata": {},
   "source": [
    "### Classe da Empresa que ira calcular receita, vendas etc"
   ]
  },
  {
   "cell_type": "code",
   "execution_count": 13,
   "id": "825c9efe",
   "metadata": {},
   "outputs": [],
   "source": [
    "class Empresa:\n",
    "    def __init__(self, nome, receita, propaganda, num_vendedores, salario_vendedores, hora_extra, estocagem):\n",
    "        self.nome = nome\n",
    "        self.receita = receita\n",
    "        self.propaganda = propaganda\n",
    "        self.num_vendedores = num_vendedores\n",
    "        self.salario_vendedores = salario_vendedores\n",
    "        self.hora_extra = hora_extra\n",
    "        self.estocagem = estocagem\n",
    "\n",
    "    def calcular_despesas(self):\n",
    "        salario_total = self.num_vendedores * self.salario_vendedores\n",
    "        custo_hora_extra = self.hora_extra if self.hora_extra is not None else 0\n",
    "        custo_estocagem = self.estocagem if self.estocagem is not None else 0\n",
    "\n",
    "        despesas = {\n",
    "            \"Propaganda\": self.propaganda,\n",
    "            \"Salário Vendedores\": salario_total,\n",
    "            \"Hora Extra\": custo_hora_extra,\n",
    "            \"Estocagem\": custo_estocagem\n",
    "        }\n",
    "\n",
    "        return despesas\n",
    "\n",
    "    def calcular_cmv(self):\n",
    "        return 0.2 * self.receita\n",
    "\n",
    "    def calcular_despesas_fixas(self):\n",
    "        return {\n",
    "            \"Salários\": 0.08 * self.receita,\n",
    "            \"Aluguel\": 2000\n",
    "        }\n",
    "\n",
    "    def calcular_total_despesas(self):\n",
    "        despesas = self.calcular_despesas()\n",
    "        despesas_fixas = self.calcular_despesas_fixas()\n",
    "\n",
    "        total_despesas = sum(despesas.values()) + sum(despesas_fixas.values())\n",
    "        return total_despesas\n",
    "\n",
    "    def calcular_resultado(self):\n",
    "        return self.receita - self.calcular_cmv() - self.calcular_total_despesas()\n",
    "\n",
    "    def esta_falida(self):\n",
    "        return self.calcular_resultado() < 0\n",
    "\n"
   ]
  },
  {
   "cell_type": "markdown",
   "metadata": {},
   "source": [
    "### Classe Simulador de Empresas que ira simular com aleatorias ou usuarios"
   ]
  },
  {
   "cell_type": "code",
   "execution_count": 15,
   "metadata": {},
   "outputs": [],
   "source": [
    "class SimuladorEmpresas:\n",
    "    def __init__(self, num_empresas_users, num_empresas_aleatorias):\n",
    "        self.empresas = []\n",
    "        self.num_empresas_users = num_empresas_users\n",
    "        self.num_empresas_aleatorias = num_empresas_aleatorias\n",
    "        self.resultados = []  # Store results here\n",
    "\n",
    "    def criar_empresas_aleatorias(self):\n",
    "        for i in range(self.num_empresas_aleatorias):\n",
    "            nome = f\"Empresa Aleatória {i+1}\"\n",
    "            receita = random.uniform(0, 1000000)  # Random revenue\n",
    "            propaganda = random.uniform(0, 10000)  # Random advertising expenses\n",
    "            num_vendedores = random.randint(5, 100)  # Random number of employees\n",
    "            salario_vendedores = random.uniform(1000, 2000)  # Random employee salaries\n",
    "            hora_extra = random.uniform(0, 1000)  # Random overtime costs\n",
    "            estocagem = random.uniform(0, 1000)  # Random storage costs\n",
    "\n",
    "            empresa = Empresa(nome, receita, propaganda, num_vendedores, salario_vendedores, hora_extra, estocagem)\n",
    "            self.empresas.append(empresa)\n",
    "\n",
    "    def inserir_dados_usuario(self):\n",
    "        for i in range(self.num_empresas_users):\n",
    "            print(f\"\\nInserir dados para a Empresa {i + 1}:\")\n",
    "            nome = input(\"Nome da Empresa: \")\n",
    "            receita = float(input(\"Receita de vendas (faturamento): \"))\n",
    "            propaganda = float(input(\"Despesa com propaganda: \"))\n",
    "            num_vendedores = int(input(\"Número de vendedores: \"))\n",
    "            salario_vendedores = float(input(\"Salário por vendedor: \"))\n",
    "            hora_extra = float(input(\"Custo de hora extra (ou Enter para 0): \") or 0)\n",
    "            estocagem = float(input(\"Custo de estocagem (ou Enter para 0): \") or 0)\n",
    "\n",
    "            empresa = Empresa(nome, receita, propaganda, num_vendedores, salario_vendedores, hora_extra, estocagem)\n",
    "            self.empresas.append(empresa)\n",
    "\n",
    "    def calcular_e_exibir_resultados(self):\n",
    "        self.resultados = []  # Reset the results\n",
    "        for empresa in self.empresas:\n",
    "            resultado = empresa.calcular_resultado()\n",
    "            self.resultados.append(resultado)\n",
    "\n",
    "        classificacao = sorted(enumerate(self.resultados, start=1), key=lambda x: x[1])\n",
    "        classificacao_final = {empresa[0]: i for i, empresa in enumerate(classificacao, start=1)}\n",
    "\n",
    "        print(\"\\nDemonstrativo de Resultados\")\n",
    "        print(\"Empresa\\tResultado\\tClassificação\\tStatus\")\n",
    "        for i, (empresa, resultado) in enumerate(zip(self.empresas, self.resultados), start=1):\n",
    "            status = \"Falida\" if empresa.esta_falida() else \"Ativa\"\n",
    "            print(f\"{empresa.nome}\\t{resultado:.2f}\\t\\t{classificacao_final[i]}\\t\\t{status}\")\n",
    "\n",
    "    def plotar_grafico(self):\n",
    "        data = {\n",
    "            \"Empresa\": [empresa.nome for empresa in self.empresas],\n",
    "            \"Resultado\": self.resultados,  # Use the stored results\n",
    "            \"Status\": [\"Falida\" if empresa.esta_falida() else \"Ativa\" for empresa in self.empresas]\n",
    "        }\n",
    "        df = pd.DataFrame(data)\n",
    "\n",
    "        plt.figure(figsize=(10, 6))\n",
    "        sns.barplot(x=\"Empresa\", y=\"Resultado\", hue=\"Status\", data=df)\n",
    "        plt.title(\"Resultados das Empresas\")\n",
    "        plt.xlabel(\"Empresa\")\n",
    "        plt.ylabel(\"Resultado\")\n",
    "        plt.show()"
   ]
  },
  {
   "cell_type": "code",
   "execution_count": 19,
   "metadata": {},
   "outputs": [
    {
     "name": "stdout",
     "output_type": "stream",
     "text": [
      "\n",
      "Demonstrativo de Resultados\n",
      "Empresa\tResultado\tClassificação\tStatus\n",
      "Empresa Aleatória 1\t21062.23\t\t1\t\tAtiva\n",
      "Empresa Aleatória 2\t206365.48\t\t4\t\tAtiva\n",
      "Empresa Aleatória 3\t341203.71\t\t5\t\tAtiva\n",
      "Empresa Aleatória 4\t99984.27\t\t2\t\tAtiva\n",
      "Empresa Aleatória 5\t159019.07\t\t3\t\tAtiva\n"
     ]
    },
    {
     "data": {
      "image/png": "[encoded data removed]",
      "text/plain": [
       "<Figure size 1000x600 with 1 Axes>"
      ]
     },
     "metadata": {},
     "output_type": "display_data"
    }
   ],
   "source": [
    "if __name__ == \"__main__\":\n",
    "    num_empresas_ale = 5  # Set the number of companies you want to simulate\n",
    "    num_empresas_users = 0  # Set the number of companies you want to enter data for\n",
    "    simulador = SimuladorEmpresas(num_empresas_users=num_empresas_users, num_empresas_aleatorias=num_empresas_ale)\n",
    "simulador.criar_empresas_aleatorias()\n",
    "simulador.inserir_dados_usuario()\n",
    "simulador.calcular_e_exibir_resultados()\n",
    "simulador.plotar_grafico()"
   ]
  }
 ],
 "metadata": {
  "kernelspec": {
   "display_name": "Python 3 (ipykernel)",
   "language": "python",
   "name": "python3"
  },
  "language_info": {
   "codemirror_mode": {
    "name": "ipython",
    "version": 3
   },
   "file_extension": ".py",
   "mimetype": "text/x-python",
   "name": "python",
   "nbconvert_exporter": "python",
   "pygments_lexer": "ipython3",
   "version": "3.10.7"
  }
 },
 "nbformat": 4,
 "nbformat_minor": 5
}
